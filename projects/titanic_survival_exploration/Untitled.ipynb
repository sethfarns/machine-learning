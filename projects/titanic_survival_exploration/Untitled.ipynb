{
 "cells": [
  {
   "cell_type": "code",
   "execution_count": null,
   "metadata": {
    "collapsed": true
   },
   "outputs": [],
   "source": [
    "Survived: Outcome of survival (0 = No; 1 = Yes)\n",
    "Pclass: Socio-economic class (1 = Upper class; 2 = Middle class; 3 = Lower class)\n",
    "Name: Name of passenger\n",
    "Sex: Sex of the passenger\n",
    "Age: Age of the passenger (Some entries contain NaN)\n",
    "SibSp: Number of siblings and spouses of the passenger aboard\n",
    "Parch: Number of parents and children of the passenger aboard\n",
    "Ticket: Ticket number of the passenger\n",
    "Fare: Fare paid by the passenger\n",
    "Cabin Cabin number of the passenger (Some entries contain NaN)\n",
    "Embarked: Port of embarkation of the passenger (C = Cherbourg; Q = Queenstown; S = Southampton)"
   ]
  }
 ],
 "metadata": {
  "anaconda-cloud": {},
  "kernelspec": {
   "display_name": "Python [py35]",
   "language": "python",
   "name": "Python [py35]"
  },
  "language_info": {
   "codemirror_mode": {
    "name": "ipython",
    "version": 3
   },
   "file_extension": ".py",
   "mimetype": "text/x-python",
   "name": "python",
   "nbconvert_exporter": "python",
   "pygments_lexer": "ipython3",
   "version": "3.5.2"
  }
 },
 "nbformat": 4,
 "nbformat_minor": 0
}
